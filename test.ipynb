{
 "cells": [
  {
   "cell_type": "code",
   "execution_count": 24,
   "metadata": {},
   "outputs": [],
   "source": [
    "import matplotlib.pyplot as plt\n",
    "import pandas as pd"
   ]
  },
  {
   "cell_type": "code",
   "execution_count": 25,
   "metadata": {},
   "outputs": [],
   "source": [
    "df = pd.read_excel('/share/shmatikov/collin/adversarial_decoding/data/readability_eval_all.xlsx')"
   ]
  },
  {
   "cell_type": "code",
   "execution_count": 33,
   "metadata": {},
   "outputs": [
    {
     "name": "stdout",
     "output_type": "stream",
     "text": [
      "        mean       var  min  max\n",
      "target                          \n",
      "-0.15   0.30  0.221053    0    1\n",
      "-0.10   0.35  0.239474    0    1\n",
      "-0.05   1.05  0.471053    0    2\n",
      " 0.00   1.70  0.431579    1    3\n",
      " 0.05   2.10  0.410526    1    3\n",
      " 0.10   2.80  0.694737    1    4\n",
      " 0.15   3.55  0.365789    2    4\n"
     ]
    }
   ],
   "source": [
    "gpt4o_stats = df.groupby('target')['gpt4o'].agg(['mean', 'var', 'min', 'max'])\n",
    "print(gpt4o_stats)\n"
   ]
  },
  {
   "cell_type": "code",
   "execution_count": 34,
   "metadata": {},
   "outputs": [
    {
     "name": "stdout",
     "output_type": "stream",
     "text": [
      "            mean       var       min       max\n",
      "target                                        \n",
      "-0.15   1.550000  0.915497  0.333333  3.666667\n",
      "-0.10   1.750000  0.945906  0.333333  3.666667\n",
      "-0.05   2.500000  1.584795  0.333333  4.333333\n",
      " 0.00   3.316667  0.859357  0.666667  4.333333\n",
      " 0.05   3.916667  0.349415  2.666667  4.666667\n",
      " 0.10   4.183333  0.122515  3.333333  4.666667\n",
      " 0.15   4.216667  0.623099  1.333333  4.666667\n"
     ]
    }
   ],
   "source": [
    "gpt4o_stats = df.groupby('target')['human_avg'].agg(['mean', 'var', 'min', 'max'])\n",
    "print(gpt4o_stats)"
   ]
  },
  {
   "cell_type": "code",
   "execution_count": null,
   "metadata": {},
   "outputs": [
    {
     "name": "stdout",
     "output_type": "stream",
     "text": [
      "           collin   tingwei       icy     gpt4o\n",
      "collin   1.000000  0.650527  0.775867  0.770221\n",
      "tingwei  0.650527  1.000000  0.636541  0.521981\n",
      "icy      0.775867  0.636541  1.000000  0.712879\n",
      "gpt4o    0.770221  0.521981  0.712879  1.000000\n"
     ]
    }
   ],
   "source": [
    "gpt_scores = df['gpt4o']\n",
    "human_scores = df['human_avg']\n",
    "# compute correlation\n",
    "# print('Correlation between GPT-4 and human scores:', gpt_scores.corr(human_scores))\n",
    "corr = df[['collin', 'tingwei', 'icy', 'gpt4o']].corr()\n",
    "print(corr)"
   ]
  },
  {
   "cell_type": "code",
   "execution_count": null,
   "metadata": {},
   "outputs": [
    {
     "name": "stdout",
     "output_type": "stream",
     "text": [
      "0      3\n",
      "1      2\n",
      "2      4\n",
      "3      1\n",
      "4      0\n",
      "      ..\n",
      "135    1\n",
      "136    4\n",
      "137    2\n",
      "138    4\n",
      "139    2\n",
      "Name: collin, Length: 140, dtype: int64\n",
      "0      2\n",
      "1      1\n",
      "2      4\n",
      "3      1\n",
      "4      0\n",
      "      ..\n",
      "135    0\n",
      "136    3\n",
      "137    1\n",
      "138    4\n",
      "139    1\n",
      "Name: gpt4o, Length: 140, dtype: int64\n",
      "Cohen's Kappa: 0.09150498164656529\n"
     ]
    }
   ],
   "source": [
    "from sklearn.metrics import cohen_kappa_score\n",
    "gpt_scores = df['gpt4o']\n",
    "human_scores = df['human_avg']\n",
    "print(human_scores)\n",
    "print(gpt_scores)\n",
    "\n",
    "kappa = cohen_kappa_score(df['collin'], df['tingwei'])\n",
    "print(\"Cohen's Kappa:\", kappa)"
   ]
  },
  {
   "cell_type": "code",
   "execution_count": 21,
   "metadata": {},
   "outputs": [
    {
     "data": {
      "text/plain": [
       "<matplotlib.collections.PathCollection at 0x7fdaf6b765d0>"
      ]
     },
     "execution_count": 21,
     "metadata": {},
     "output_type": "execute_result"
    },
    {
     "data": {
      "image/png": "[encoded data removed]",
      "text/plain": [
       "<Figure size 640x480 with 1 Axes>"
      ]
     },
     "metadata": {},
     "output_type": "display_data"
    }
   ],
   "source": [
    "# normalize scores\n",
    "gpt_scores = df['gpt4o']\n",
    "# gpt_scores = (gpt_scores-gpt_scores.mean())/gpt_scores.std()\n",
    "human_scores = df['collin']\n",
    "# human_scores = (human_scores-human_scores.mean())/human_scores.std()\n",
    "\n",
    "# plt.scatter(gpt_scores, human_scores)\n",
    "plt.scatter(human_scores, gpt_scores)\n"
   ]
  }
 ],
 "metadata": {
  "kernelspec": {
   "display_name": "refusal_direction",
   "language": "python",
   "name": "python3"
  },
  "language_info": {
   "codemirror_mode": {
    "name": "ipython",
    "version": 3
   },
   "file_extension": ".py",
   "mimetype": "text/x-python",
   "name": "python",
   "nbconvert_exporter": "python",
   "pygments_lexer": "ipython3",
   "version": "3.11.11"
  }
 },
 "nbformat": 4,
 "nbformat_minor": 2
}
