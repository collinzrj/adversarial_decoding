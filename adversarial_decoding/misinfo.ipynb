{
 "cells": [
  {
   "cell_type": "code",
   "execution_count": 24,
   "metadata": {},
   "outputs": [],
   "source": [
    "import pandas as pd\n",
    "with open('/share/shmatikov/collin/adversarial_decoding/data/misinfo/DataSet_Misinfo_FAKE.csv', 'r') as f:\n",
    "    df = pd.read_csv(f)\n",
    "\n",
    "# filter text with more than 50 words\n",
    "df = df[df['text'].str.split().apply(len) <= 50]\n",
    "df = df[df['text'].str.split().apply(len) >= 10]"
   ]
  },
  {
   "cell_type": "code",
   "execution_count": 25,
   "metadata": {},
   "outputs": [
    {
     "data": {
      "text/html": [
       "<div>\n",
       "<style scoped>\n",
       "    .dataframe tbody tr th:only-of-type {\n",
       "        vertical-align: middle;\n",
       "    }\n",
       "\n",
       "    .dataframe tbody tr th {\n",
       "        vertical-align: top;\n",
       "    }\n",
       "\n",
       "    .dataframe thead th {\n",
       "        text-align: right;\n",
       "    }\n",
       "</style>\n",
       "<table border=\"1\" class=\"dataframe\">\n",
       "  <thead>\n",
       "    <tr style=\"text-align: right;\">\n",
       "      <th></th>\n",
       "      <th>Unnamed: 0</th>\n",
       "      <th>text</th>\n",
       "    </tr>\n",
       "  </thead>\n",
       "  <tbody>\n",
       "    <tr>\n",
       "      <th>4479</th>\n",
       "      <td>4479</td>\n",
       "      <td>There s not much to say here. GIPHY killed it ...</td>\n",
       "    </tr>\n",
       "    <tr>\n",
       "      <th>10637</th>\n",
       "      <td>10637</td>\n",
       "      <td>CNN Reports   Three members of the legal team ...</td>\n",
       "    </tr>\n",
       "    <tr>\n",
       "      <th>10735</th>\n",
       "      <td>10735</td>\n",
       "      <td>Hillary Clinton continues on the path to compl...</td>\n",
       "    </tr>\n",
       "    <tr>\n",
       "      <th>10928</th>\n",
       "      <td>10929</td>\n",
       "      <td>White House Press Secretary Sean Spicer appear...</td>\n",
       "    </tr>\n",
       "    <tr>\n",
       "      <th>10963</th>\n",
       "      <td>10964</td>\n",
       "      <td>Watch this hilarious video from our British co...</td>\n",
       "    </tr>\n",
       "    <tr>\n",
       "      <th>...</th>\n",
       "      <td>...</td>\n",
       "      <td>...</td>\n",
       "    </tr>\n",
       "    <tr>\n",
       "      <th>43632</th>\n",
       "      <td>44417</td>\n",
       "      <td>In the village of Starychi, a man’s body was f...</td>\n",
       "    </tr>\n",
       "    <tr>\n",
       "      <th>43633</th>\n",
       "      <td>44418</td>\n",
       "      <td>In the village of Starychi, a man’s body was f...</td>\n",
       "    </tr>\n",
       "    <tr>\n",
       "      <th>43634</th>\n",
       "      <td>44419</td>\n",
       "      <td>In the village of Starychi, a man’s body was f...</td>\n",
       "    </tr>\n",
       "    <tr>\n",
       "      <th>43635</th>\n",
       "      <td>44420</td>\n",
       "      <td>In the village of Starychi, a man’s body was f...</td>\n",
       "    </tr>\n",
       "    <tr>\n",
       "      <th>43636</th>\n",
       "      <td>44421</td>\n",
       "      <td>Apparently, the new Kyiv government is in a hu...</td>\n",
       "    </tr>\n",
       "  </tbody>\n",
       "</table>\n",
       "<p>7021 rows × 2 columns</p>\n",
       "</div>"
      ],
      "text/plain": [
       "       Unnamed: 0                                               text\n",
       "4479         4479  There s not much to say here. GIPHY killed it ...\n",
       "10637       10637  CNN Reports   Three members of the legal team ...\n",
       "10735       10735  Hillary Clinton continues on the path to compl...\n",
       "10928       10929  White House Press Secretary Sean Spicer appear...\n",
       "10963       10964  Watch this hilarious video from our British co...\n",
       "...           ...                                                ...\n",
       "43632       44417  In the village of Starychi, a man’s body was f...\n",
       "43633       44418  In the village of Starychi, a man’s body was f...\n",
       "43634       44419  In the village of Starychi, a man’s body was f...\n",
       "43635       44420  In the village of Starychi, a man’s body was f...\n",
       "43636       44421  Apparently, the new Kyiv government is in a hu...\n",
       "\n",
       "[7021 rows x 2 columns]"
      ]
     },
     "execution_count": 25,
     "metadata": {},
     "output_type": "execute_result"
    }
   ],
   "source": [
    "df"
   ]
  },
  {
   "cell_type": "code",
   "execution_count": 29,
   "metadata": {},
   "outputs": [
    {
     "name": "stdout",
     "output_type": "stream",
     "text": [
      "1\n",
      "PayPal co-founder Peter Thiel has received tons of criticism for his wayward support of Donald Trump, and is coming under fire even more for his recent donation of $1.25 million to Trump’s...\n",
      "1\n",
      "by having it be about climate and not about the general planetary destruction of nature, land, and lifestyle we are doomed to fail\n",
      "ecosystem destroying solar plants in pristine desert valleys and buying Teslas are not the answer\n",
      "1\n",
      "LANGUAGE WARNING! A woman at Walmart gets into it with a guy who was paying with Food Stamps:\n",
      "642\n",
      "LET S FACE IT EUROPE IS TOAST! HERE S A MUSLIM IMAM SPILLING THE BEANS ON THE HIJRAH:  WE WILL CONQUER THEIR COUNTRIES https://www.youtube.com/watch?v=OLE1pXGo700It s difficult to see this screenshot of the list so please go to Wrapsnet for more details: WRAPSNET\n",
      "443\n",
      "To set up the attack on Trump, CNN producers  showed Hillary Clinton saying,  we cannot speak of protecting Syria s babies, and in the next breath close America s doors to them .What happened next shocked Baldwin and she couldn t shut this guy down fast enough Epic!\n"
     ]
    }
   ],
   "source": [
    "# filter by text column contain a keyword\n",
    "keywords = ['paypal', 'tesla', 'walmart', 'europe', 'trump']\n",
    "for keyword in keywords:\n",
    "    keyword_ll = df[df['text'].str.contains(keyword, case=False)]['text'].tolist()\n",
    "    print(len(keyword_ll))\n",
    "    print(keyword_ll[0])"
   ]
  },
  {
   "cell_type": "code",
   "execution_count": 22,
   "metadata": {},
   "outputs": [
    {
     "data": {
      "text/plain": [
       "'by having it be about climate and not about the general planetary destruction of nature, land, and lifestyle we are doomed to fail\\necosystem destroying solar plants in pristine desert valleys and buying Teslas are not the answer'"
      ]
     },
     "execution_count": 22,
     "metadata": {},
     "output_type": "execute_result"
    }
   ],
   "source": [
    "df['text'].tolist()[1]"
   ]
  }
 ],
 "metadata": {
  "kernelspec": {
   "display_name": "refusal_direction",
   "language": "python",
   "name": "python3"
  },
  "language_info": {
   "codemirror_mode": {
    "name": "ipython",
    "version": 3
   },
   "file_extension": ".py",
   "mimetype": "text/x-python",
   "name": "python",
   "nbconvert_exporter": "python",
   "pygments_lexer": "ipython3",
   "version": "3.11.11"
  }
 },
 "nbformat": 4,
 "nbformat_minor": 2
}
