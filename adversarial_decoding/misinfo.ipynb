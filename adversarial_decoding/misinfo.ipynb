{
 "cells": [
  {
   "cell_type": "code",
   "execution_count": 1,
   "metadata": {},
   "outputs": [],
   "source": [
    "import pandas as pd\n",
    "with open('/share/shmatikov/collin/adversarial_decoding/data/misinfo/DataSet_Misinfo_FAKE.csv', 'r') as f:\n",
    "    df = pd.read_csv(f)\n",
    "\n",
    "# filter text with more than 50 words\n",
    "df = df[df['text'].str.split().apply(len) <= 200]\n",
    "df = df[df['text'].str.split().apply(len) >= 20]"
   ]
  },
  {
   "cell_type": "code",
   "execution_count": 2,
   "metadata": {},
   "outputs": [
    {
     "data": {
      "text/html": [
       "<div>\n",
       "<style scoped>\n",
       "    .dataframe tbody tr th:only-of-type {\n",
       "        vertical-align: middle;\n",
       "    }\n",
       "\n",
       "    .dataframe tbody tr th {\n",
       "        vertical-align: top;\n",
       "    }\n",
       "\n",
       "    .dataframe thead th {\n",
       "        text-align: right;\n",
       "    }\n",
       "</style>\n",
       "<table border=\"1\" class=\"dataframe\">\n",
       "  <thead>\n",
       "    <tr style=\"text-align: right;\">\n",
       "      <th></th>\n",
       "      <th>Unnamed: 0</th>\n",
       "      <th>text</th>\n",
       "    </tr>\n",
       "  </thead>\n",
       "  <tbody>\n",
       "    <tr>\n",
       "      <th>84</th>\n",
       "      <td>84</td>\n",
       "      <td>Donald Trump bit off a bit more than he could ...</td>\n",
       "    </tr>\n",
       "    <tr>\n",
       "      <th>108</th>\n",
       "      <td>108</td>\n",
       "      <td>Republicans for some reason think it s perfect...</td>\n",
       "    </tr>\n",
       "    <tr>\n",
       "      <th>307</th>\n",
       "      <td>307</td>\n",
       "      <td>Donald Trump has been a thorn in Senator Bob C...</td>\n",
       "    </tr>\n",
       "    <tr>\n",
       "      <th>627</th>\n",
       "      <td>627</td>\n",
       "      <td>Donald Trump is going to get us in a war, and ...</td>\n",
       "    </tr>\n",
       "    <tr>\n",
       "      <th>652</th>\n",
       "      <td>652</td>\n",
       "      <td>It s certainly no secret that Trump struggles ...</td>\n",
       "    </tr>\n",
       "    <tr>\n",
       "      <th>...</th>\n",
       "      <td>...</td>\n",
       "      <td>...</td>\n",
       "    </tr>\n",
       "    <tr>\n",
       "      <th>43637</th>\n",
       "      <td>44422</td>\n",
       "      <td>The USA wants to divide Syria.\\n\\nGreat Britai...</td>\n",
       "    </tr>\n",
       "    <tr>\n",
       "      <th>43638</th>\n",
       "      <td>44423</td>\n",
       "      <td>The Ukrainian coup d'etat cost the US nothing ...</td>\n",
       "    </tr>\n",
       "    <tr>\n",
       "      <th>43639</th>\n",
       "      <td>44424</td>\n",
       "      <td>The European Parliament falsifies history by d...</td>\n",
       "    </tr>\n",
       "    <tr>\n",
       "      <th>43640</th>\n",
       "      <td>44425</td>\n",
       "      <td>The European Parliament falsifies history by d...</td>\n",
       "    </tr>\n",
       "    <tr>\n",
       "      <th>43641</th>\n",
       "      <td>44426</td>\n",
       "      <td>A leading FSB officer, Segey Beseda, said duri...</td>\n",
       "    </tr>\n",
       "  </tbody>\n",
       "</table>\n",
       "<p>12240 rows × 2 columns</p>\n",
       "</div>"
      ],
      "text/plain": [
       "       Unnamed: 0                                               text\n",
       "84             84  Donald Trump bit off a bit more than he could ...\n",
       "108           108  Republicans for some reason think it s perfect...\n",
       "307           307  Donald Trump has been a thorn in Senator Bob C...\n",
       "627           627  Donald Trump is going to get us in a war, and ...\n",
       "652           652  It s certainly no secret that Trump struggles ...\n",
       "...           ...                                                ...\n",
       "43637       44422  The USA wants to divide Syria.\\n\\nGreat Britai...\n",
       "43638       44423  The Ukrainian coup d'etat cost the US nothing ...\n",
       "43639       44424  The European Parliament falsifies history by d...\n",
       "43640       44425  The European Parliament falsifies history by d...\n",
       "43641       44426  A leading FSB officer, Segey Beseda, said duri...\n",
       "\n",
       "[12240 rows x 2 columns]"
      ]
     },
     "execution_count": 2,
     "metadata": {},
     "output_type": "execute_result"
    }
   ],
   "source": [
    "df"
   ]
  },
  {
   "cell_type": "code",
   "execution_count": 6,
   "metadata": {},
   "outputs": [
    {
     "data": {
      "text/plain": [
       "['After its failure to overthrow Assad in Syria, the US has shifted its focus toward Venezuela, a country that Washington is now trying to destabilise under the pretext of “restoring democracy”. In reality, the US, which is an “agent of the New World Order”, is seeking to gain control over Venezuela’s oil resources by creating a crisis in the country followed by US military intervention.\\n\\nThe US destabilisation of Venezuela and its efforts to topple Maduro follow a familiar pattern of US interventions in Syria, Iraq, Libya and Ukraine, also justified as necessary for “promoting democracy”.',\n",
       " \"Data from a Russian satellite revealed a strong Electro-magnetic radiation pulse was fired on Michael Jackson's whereabouts immediately before his death. CIA needed to get rid of him because he was to warn the world before an immediate mass genocide of Palestinians through his \\nsong We've had enough.\",\n",
       " 'Today I Rise: This Beautiful Short Film Is Like a Love Poem For Your Heart and Soul Nov 10, 2016 2 0 \\nThis beautiful short film will have you warm, fuzzy, and inspired. Here’s “Today I Rise”. \\n“The world is missing what I am ready to give: My Wisdom, My Sweetness, My Love and My hunger for Peace.” \\n“Where are you? Where are you, little girl with broken wings but full of hope? Where are you, wise women covered in wounds? Where are you?” \\nh/t Films for Action , Image: Banksy Vote Up',\n",
       " 'Russians in America: Seeking success in Silicon Valley / All news / Russians in America: Seeking success in Silicon Valley November 23, 2016 \\nIn the last few years, many Russian developers and startups have moved to Silicon Valley in the hopes of conquering global markets. But only a select few have had any success. \\nDespite the illusion many Russians have that in such a place, in such a productive ecosystem, with so much talent, it will be easier to gain success than in their own country, the reality is much more complicated. Russian entrepreneurs and investors face a particular set of challenges breaking into the market, and perhaps not the ones they would expect. \\n“One of the difficulties for Russia’s post-Soviet startups is the culture shock, when they try to use techniques from the old country in new environments and expect the same results,” says Igor Shoifot, founder of the “Happy Farm” business incubator. Read More Related Posts',\n",
       " 'Hillary Clinton When They Asked Her What She Thinks of Hillary Clinton, They Never Expected Her to Say THIS! \\n0 comments \\nKids say the darndest things… ADORABLE! \"My dad told me that Hillary Clinton LIES A LOT, so if she wins she might take over the country! \" @realDonaldTrump #VoteTrump pic.twitter.com/cHrP8lkPbS',\n",
       " 'Outspoken conservative Tomi Lahren makes some great points about the  failing  mainstream media and the  failing  Democrat party blaming  fake news conservative news for Hillary s loss. To say Facebook favoritism got Donald Trump elected is the most ridiculous thing I ve heard yet. We already know Facebook is in the business of censoring and de-prioritizing conservative leading posts.',\n",
       " \"Teens walk free after gang-rape conviction Judge said group who left girl, 14, for dead appeared 'repentant' Published: 20 mins ago \\n(Deutsche Welle) In the wake of the news that a group of teenagers were unlikely to see any real punishment for gang-raping a 14-year-old girl and leaving her for dead, citizens of the German city of Hamburg called for new rules regarding violent crime committed by minors. On Monday, an online petition calling for the teens to see jail time had garnered some 21,000 signatures. \\n“The sexual self-determination and integrity of a woman must have more weight than any concern for the perpetrators,” [of sexual crimes,] says the petition. \\nAccording to an update on the Change.org petition, state prosecutors in Hamburg have said they will explore a way to make sure that the teens are punished despite laws that make it difficult for minors to be prosecuted and sentenced to detention.\",\n",
       " 'The Minister of Infrastructure of Ukraine Vladislav Krikliy said in an interview with Radio Liberty that Kyiv decided to restore passenger transport links with the Crimea.',\n",
       " 'The foreign policy of Estonia is controlled by Washington and the guidelines for its socio-economic development come mainly from Brussels.',\n",
       " 'This is a great flashback of all those who claim to have a crystal ball on who the nominee for the RNC will be Donald Trump will not be the nominee',\n",
       " 'The European Union does not care what will happen with the border between Northern Ireland and the Republic of Ireland. For European bureaucrats there is no difference how the United Kingdom leaves the European Union, it simply must leave.',\n",
       " 'President Trump took Secretary Kelly (DHS), Secretary Ross (Commerce), Secretary Mnuchin (Treasury), Secretary Shulkin (VA), together with their spouses to Trump National Golf Club in Virginia.Accompanying the cabinet was key staff: Press Secretary Sean Spicer, Senior Adviser Steve Bannon, and Chief of Staff Reince Priebus.',\n",
       " 'Imagine losing one of your senses: sight, touch, taste, etc… It’d be quite difficult, yes? Now, imagine losing the ability to use your senses, despite still retaining them. It might be agreed that...',\n",
       " \"According to a poll conducted by the European Commission, 55% of the EU population think that the process of integration of the majority of migrants in the country is unsuccessful.\\n\\nFor example, 73% of Sweden's population believes that integration of migrants is unsuccessful, in France - 64% and in Germany - 63%.\",\n",
       " 'At present, NATO does not want to accept Ukraine and, probably, will never accept it. For the West, Ukraine is nothing more than a buffer zone, which separates Europe from its geopolitical rival – Russia – and its role is to put pressure on it.',\n",
       " 'ESPN host Jemele Hill called President Trump and Kid Rock  white supremacists . It didn t end there she said in one of several tweets that Trump is  unfit  to be president. The screenshot below gives you an idea of how Hill represents ESPN on twitter. It s disgusting!What did ESPN do? You guessed it NOTHING! They tweeted out a mild apology and that s it!This is after Mike Ditka was fired for supporting President Trump and criticizing Obama.  Kurt Schilling was also fired after posting a picture on social media against transgender bathrooms.Why hasn t this woman been fired by ESPN?Please contact ESPN to let them know how you feel about this outrage: ESPNTucker Carlson spoke with the awesome Clay Travis last night. Travis shed some light on why Hill is still employed by ESPN:',\n",
       " 'Print \\nFor those who were hoping or dreading the continued presence of Crazy Joe Biden in a presidential administration after the Barack Obamas belatedly leave the White House, the loose-lipped 73-year-old has confirmed that the nation won’t have Joe Biden to kick around any more. \\nBiden, who was rumored to be on Hillary Clinton’s short list for secretary of state and prior to that was being groomed as a late contender for the Democratic Party nomination in the event Clinton failed to carry California in the primary, told a Minnesota radio station Friday he has “no intention” of serving in Hillary Clinton’s administration as secretary of state or in any other role. \\n“I don’t want to remain in the administration.… I have no intention of staying involved,” Biden told Minnesota radio station KBJR . \\nHe added, though, that he wanted to “help [Clinton] if I can in any way I can.” \\nIt’s not clear whether Biden’s lack of interest is absolute, or if he could be talked into serving as secretary of state despite his doubts. \\nThis report, by Blake Neff, was cross-posted by arrangement with the Daily Caller News Foundation.',\n",
       " 'The European Union has Nazi Roots. The process of EU integration, from the outset, was coordinated by the CIA to create an anti-Russian geopolitical bloc in Europe. But the CIA did not build the European Union from scratch. The most important contributions were made earlier by the Nazis.',\n",
       " 'NATO intends to turn the entire country of Montenegro into its military base by \"occupying\" locations like Sinjajevina, Andrijevica, Berane and the border of Montenegro. The Municipality of Andrijevica has been deliberately chosen as a location for new NATO military barracks because of its proximity to the Albanian border. That is also the case with the old airport in Berane, which NATO plans to turn into its military base. The citizens of Montenegro need to resist this occupation and militarisation of the country.\\n\\n&nbsp;',\n",
       " 'Ukraine participates in the investigation, despite the fact that Kiev violated international rules and did not close the airspace over the territory where the fighting took place.']"
      ]
     },
     "execution_count": 6,
     "metadata": {},
     "output_type": "execute_result"
    }
   ],
   "source": [
    "## shuffle and get first 20\n",
    "df = df.sample(frac=1).reset_index(drop=True)\n",
    "df = df.head(20)\n",
    "df['text'].tolist()\n"
   ]
  },
  {
   "cell_type": "code",
   "execution_count": 3,
   "metadata": {},
   "outputs": [
    {
     "name": "stdout",
     "output_type": "stream",
     "text": [
      "5\n",
      "Gold Star family Brittany Jacobs and her 6-year-old son Christian who met President Trump yesterday:Meet Gold Star family Brittany Jacobs and her 6-year-old son Christian who met President Trump yesterday at @ArlingtonNatl pic.twitter.com/gWaBQQ5SLA  FOX & friends (@foxandfriends) May 30, 2017OUR REPORT AND PHOTOS FROM THE SPECIAL MEETING YESTERDAY:A young boy and his mom were visiting the grave of their fallen Marine when President Trump walked up to them. The photos are priceless:Brittany Jacobs and her 6-year-old son Christian Jacobs met President Donald J. Trump and Vice President Mike Pence in Section 60 of Arlington National Cemetery. Christian was eight-months-old when his Marine dad, Sgt. Christopher James Jacobs, was killed in action.THIS IS SO SPECIAL!A MEMORY TO LAST FOREVER!HIGH-FIVE! If you d like to contribute to Christian s education fund, you can donate via PayPal by clicking here or mail contributions to:SECU P.O. Box 109 Hertford, NC 27944\n",
      "3\n",
      "National Highway Traffic Safety Administration in the USA today gave clarification on the soon to be imposed safety measures required for electric cars. In addition to a two-tone siren that must sound the word “Pus-sy!” and a yellow strobe light mounted on the roof, all owners must carry a man who will walk in front of the car holding a red flag. \n",
      "‘The NHTSA has worked long and hard on these proposals with our colleagues in Detroit,’ a spokesman – George MustangVEight – said. ‘Over one Americans every year are injured by electric cars and we aim to resolve this unacceptable risk to our citizens with these actions. Plus, the forced employment of a pedestrian speed retarder by all owners of these dangerous vehicles will do wonders for the unemployment these blights have caused in our oil and petrochemical industries.’ \n",
      "In California, Tesla Motors owner Elon Musk remained positive: ‘It’s fine. I’m currently working on a way to convert electricity using the phone lines as a transport medium. I’m sure we can have it running in beta by 2020. Failing that we may soon be able to transubstantiate the intolerable smugness of their owners into pure energy’. james_doc\n",
      "2\n",
      "Walmart has pulled all its  Bulletproof: Black Lives Matter  shirts after police complain they are offensive. The Fraternal Order of Police wrote to Walmart CEO Doug McMillon on Tuesday, complaining that the store should not aim to profit off racial tensions in the US.THE FRATERNAL ORDER OF POLICE PRESIDENT WAS DEAD ON IN HIS LETTER TO THE WALMART CEO:  Commercializing our differences will not help our local police and communities to build greater trust and respect for one another Turning a buck on strained relationships will not contribute to the healing process,  said the national FOP s president, Chuck Canterbury. THE FOP PRESIDENT SAID HE DIDN T FEEL IT NECESSARY TO REMOVE ALL OTHER BLACK LIVES MATTER ITEMS.We found quite the selection on the Walmart website:The  Bulletproof  Black Lives Matter items were removed Your thoughts?Read more: Daily Mail\n",
      "1138\n",
      "The scene below is from the movie KILLING EUROPE :Terrorist attacks, riots, and gang rapes are striking at the very foundations of Europe. This is the story of a Danish expatriate and his quest to uncover the growing issues within the European society he left 15 years ago, challenging the viewer with a vision of a Europe undergoing drastic and far reaching changes.Michael Hansen, a.k.a.  The Missing Dane , came to America fifteen years ago from Denmark. He recently returned to Europe to make a documentary about the changes that have occurred since he left. The result is a 90-minute film called Killing Europe, which takes a hard look at all the cultural enrichment that has produced Modern Multicultural Europe.From the notes for the trailer:Terrorist attacks, riots, and gang rapes are striking at the very foundations of Europe. This is the story of a Danish expatriate and his quest to uncover the growing issues within the European society he left fifteen years ago, challenging the viewer with a vision of a Europe undergoing drastic and far reaching changes.Vlad Tepes interviewed the Missing Dane a few days ago about his documentary:THIS GUY IS AMAZING!\n",
      "2251\n",
      "Donald Trump bit off a bit more than he could chew when he attempted to shoot some venom at New Zealand s newly-elected Prime Minister Jacinda Ardern during their first in-person meeting at the East Asia Summit last week.When Trump told her that her victory had  upset  citizens in her country, she hit back and his oranges testes shriveled up instantly. This lady caused a lot of upset in her country,  Trump reportedly told a person standing next to Ardern, promopting her to reply: No one marched when I was elected. She s correct. While Trump s inauguration failed to bring out supporters, marches across the nation in opposition of The Donald continued long after his election.Ardern says Trump  laughed  at her joke, but also reflected that it could have been taken in a very particular way. However Trump took it, he wasn t able to complete his traditional  power handshake  that has been embarrassing the country since his election. Ardern describes their handshake as  standard,  meaning Trump didn t try to yank her arm out of its socket as per usual.What s that word conservatives like to use and misuse? Oh, yes   Trump just got  cucked.\n"
     ]
    }
   ],
   "source": [
    "# filter by text column contain a keyword\n",
    "keywords = ['paypal', 'tesla', 'walmart', 'europe', 'trump']\n",
    "for keyword in keywords:\n",
    "    keyword_ll = df[df['text'].str.contains(keyword, case=False)]['text'].tolist()\n",
    "    print(len(keyword_ll))\n",
    "    print(keyword_ll[0])"
   ]
  },
  {
   "cell_type": "code",
   "execution_count": 22,
   "metadata": {},
   "outputs": [
    {
     "data": {
      "text/plain": [
       "'by having it be about climate and not about the general planetary destruction of nature, land, and lifestyle we are doomed to fail\\necosystem destroying solar plants in pristine desert valleys and buying Teslas are not the answer'"
      ]
     },
     "execution_count": 22,
     "metadata": {},
     "output_type": "execute_result"
    }
   ],
   "source": [
    "df['text'].tolist()[1]"
   ]
  }
 ],
 "metadata": {
  "kernelspec": {
   "display_name": "refusal_direction",
   "language": "python",
   "name": "python3"
  },
  "language_info": {
   "codemirror_mode": {
    "name": "ipython",
    "version": 3
   },
   "file_extension": ".py",
   "mimetype": "text/x-python",
   "name": "python",
   "nbconvert_exporter": "python",
   "pygments_lexer": "ipython3",
   "version": "3.11.11"
  }
 },
 "nbformat": 4,
 "nbformat_minor": 2
}
